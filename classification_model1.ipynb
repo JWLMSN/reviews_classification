{
 "cells": [
  {
   "cell_type": "code",
   "execution_count": 161,
   "id": "10187cb2",
   "metadata": {},
   "outputs": [
    {
     "data": {
      "text/markdown": [
       "Falls sich nach einigen Sekunden nichts tut, bitte die Schaltfl&auml;che bet&auml;tigen:"
      ],
      "text/plain": [
       "<IPython.core.display.Markdown object>"
      ]
     },
     "metadata": {},
     "output_type": "display_data"
    },
    {
     "data": {
      "application/vnd.jupyter.widget-view+json": {
       "model_id": "a597e071f16c423ca627b9ff437060fc",
       "version_major": 2,
       "version_minor": 0
      },
      "text/plain": [
       "Button(description='Skript ausführen', style=ButtonStyle())"
      ]
     },
     "metadata": {},
     "output_type": "display_data"
    }
   ],
   "source": [
    "from IPython.display import Javascript\n",
    "from IPython.display import HTML\n",
    "from IPython.display import Markdown, display\n",
    "from ipywidgets import widgets\n",
    "import pandas as pd\n",
    "import numpy as np\n",
    "import re\n",
    "import nltk\n",
    "from nltk.corpus import stopwords\n",
    "from nltk.tokenize import word_tokenize\n",
    "from nltk.stem import SnowballStemmer\n",
    "from urllib.request import urlopen\n",
    "import holoviews as hv\n",
    "import hvplot\n",
    "from hvplot import pandas\n",
    "from bokeh.models import NumeralTickFormatter\n",
    "from sklearn.feature_extraction.text import TfidfVectorizer\n",
    "from sklearn.model_selection import train_test_split\n",
    "from sklearn.svm import LinearSVC\n",
    "from sklearn.naive_bayes import MultinomialNB\n",
    "from sklearn.metrics import classification_report\n",
    "from sklearn.pipeline import make_pipeline\n",
    "from sklearn.feature_extraction.text import CountVectorizer\n",
    "\n",
    "def printmd(string):\n",
    "    display(Markdown(string))\n",
    "printmd(\"Falls sich nach einigen Sekunden nichts tut, bitte die Schaltfl&auml;che bet&auml;tigen:\")\n",
    "def run_script(ev):\n",
    "    display(Javascript(\"IPython.notebook.execute_cells_below()\"))\n",
    "button = widgets.Button(description=\"Skript ausführen\")\n",
    "button.on_click(run_script)\n",
    "display(button)"
   ]
  },
  {
   "cell_type": "code",
   "execution_count": 157,
   "id": "8d6db325",
   "metadata": {},
   "outputs": [
    {
     "data": {
      "text/html": [
       "<script>\n",
       "code_show=true; \n",
       "function code_toggle() {\n",
       " if (code_show){\n",
       " $('div.input').hide();\n",
       " } else {\n",
       " $('div.input').show();\n",
       " }\n",
       " code_show = !code_show\n",
       "} \n",
       "$( document ).ready(code_toggle);\n",
       "</script>\n",
       "<a href=\"javascript:code_toggle()\"><b>Gesamten Quellcode ein-/ausblenden</b></a>."
      ],
      "text/plain": [
       "<IPython.core.display.HTML object>"
      ]
     },
     "execution_count": 157,
     "metadata": {},
     "output_type": "execute_result"
    }
   ],
   "source": [
    "HTML('''<script>\n",
    "code_show=true; \n",
    "function code_toggle() {\n",
    " if (code_show){\n",
    " $('div.input').hide();\n",
    " } else {\n",
    " $('div.input').show();\n",
    " }\n",
    " code_show = !code_show\n",
    "} \n",
    "$( document ).ready(code_toggle);\n",
    "</script>\n",
    "<a href=\"javascript:code_toggle()\"><b>Gesamten Quellcode ein-/ausblenden</b></a>.''')"
   ]
  },
  {
   "cell_type": "code",
   "execution_count": 143,
   "id": "c504c8f8",
   "metadata": {},
   "outputs": [],
   "source": [
    "df1 = pd.read_json(\"amazon/misc_reviews.json\")\n",
    "df2 = pd.read_json(\"amazon/pommersche.json\")\n",
    "df3 = pd.read_json(\"amazon/more_reviews.json\")\n",
    "df4 = pd.read_json(\"vantastic_foods/vantastic_fleischersatz.json\")\n",
    "df5 = pd.read_json(\"vantastic_foods/vantastic_misc.json\")\n",
    "df6 = pd.read_json(\"vekoop/reviews.json\")\n",
    "\n",
    "df6 = df6.rename(columns={\"text\": \"review\", \"date_time\": \"date\", \"topic_title\": \"product_name\"})\n",
    "dfa = pd.concat([df1, df2, df3])\n",
    "dfb = pd.concat([df4, df5])\n",
    "\n",
    "dfa = dfa.drop_duplicates()\n",
    "dfb = dfb.drop_duplicates()\n",
    "df6 = df6.drop_duplicates()\n",
    "\n",
    "dfa[\"date\"] = dfa[\"date\"].replace(\"(Rezension aus Deutschland vom )\", \"\", regex=True)\n",
    "dfa[\"date\"] = dfa[\"date\"].replace({\"Januar\": \"Jan\", \"Februar\": \"Feb\", \"März\": \"Mar\", \"April\": \"Apr\", \"Mai\": \"May\", \"Juni\": \"Jun\", \"Juli\": \"Jul\", \"August\": \"Aug\", \"Semptember\": \"Sep\", \"Oktober\": \"Oct\", \"November\": \"Nov\", \"Dezember\": \"Dec\"}, regex=True)\n",
    "dfa = dfa[~dfa.date.str.contains(\"Königreich\")]\n",
    "dfa.date = pd.to_datetime(dfa.date)"
   ]
  },
  {
   "cell_type": "code",
   "execution_count": 159,
   "id": "c50e3e09",
   "metadata": {},
   "outputs": [
    {
     "data": {
      "text/markdown": [
       "<b>Struktur des vollst&auml;ndigen Datensatzes</b>"
      ],
      "text/plain": [
       "<IPython.core.display.Markdown object>"
      ]
     },
     "metadata": {},
     "output_type": "display_data"
    },
    {
     "name": "stdout",
     "output_type": "stream",
     "text": [
      "<class 'pandas.core.frame.DataFrame'>\n",
      "Int64Index: 5100 entries, 0 to 5107\n",
      "Data columns (total 6 columns):\n",
      " #   Column        Non-Null Count  Dtype         \n",
      "---  ------        --------------  -----         \n",
      " 0   product_name  5100 non-null   object        \n",
      " 1   author        5098 non-null   object        \n",
      " 2   rating        5100 non-null   int64         \n",
      " 3   title         5100 non-null   object        \n",
      " 4   date          5100 non-null   datetime64[ns]\n",
      " 5   review        5100 non-null   object        \n",
      "dtypes: datetime64[ns](1), int64(1), object(4)\n",
      "memory usage: 278.9+ KB\n"
     ]
    }
   ],
   "source": [
    "df = pd.concat([dfa, dfb, df6])\n",
    "df = df.reset_index(drop=True)\n",
    "df = df[df[\"review\"].notna()]\n",
    "printmd(\"<b>Struktur des vollst&auml;ndigen Datensatzes</b>\")\n",
    "df.info()"
   ]
  },
  {
   "cell_type": "code",
   "execution_count": 158,
   "id": "3e117047",
   "metadata": {},
   "outputs": [
    {
     "data": {
      "text/markdown": [
       "<b>Struktur des Text-Datensatzes</b>"
      ],
      "text/plain": [
       "<IPython.core.display.Markdown object>"
      ]
     },
     "metadata": {},
     "output_type": "display_data"
    },
    {
     "name": "stdout",
     "output_type": "stream",
     "text": [
      "<class 'pandas.core.frame.DataFrame'>\n",
      "RangeIndex: 10200 entries, 0 to 10199\n",
      "Data columns (total 2 columns):\n",
      " #   Column    Non-Null Count  Dtype \n",
      "---  ------    --------------  ----- \n",
      " 0   text      10200 non-null  object\n",
      " 1   positive  10200 non-null  int64 \n",
      "dtypes: int64(1), object(1)\n",
      "memory usage: 159.5+ KB\n"
     ]
    }
   ],
   "source": [
    "df[\"positive\"] = np.where(df[\"rating\"] > 3, 1, 0)\n",
    "\n",
    "df_pos_temp = df[[\"review\", \"title\"]][df.positive == 1]\n",
    "df_neg_temp = df[[\"review\", \"title\"]][df.positive == 0]\n",
    "\n",
    "series_pos = pd.concat([df_pos_temp.title, df_pos_temp.review])\n",
    "series_neg = pd.concat([df_neg_temp.title, df_neg_temp.review])\n",
    "\n",
    "df_pos = series_pos.to_frame()\n",
    "df_neg = series_neg.to_frame()\n",
    "df_pos[\"positive\"] = 1\n",
    "df_pos = df_pos.rename(columns={0: \"text\"})\n",
    "df_neg[\"positive\"] = 0\n",
    "df_neg = df_neg.rename(columns={0: \"text\"})\n",
    "df_samples = pd.concat([df_pos, df_neg])\n",
    "df_samples = df_samples.reset_index(drop=True)\n",
    "\n",
    "df_backup = df_samples\n",
    "printmd(\"<b>Struktur des Text-Datensatzes</b>\")\n",
    "df_samples.info()"
   ]
  },
  {
   "cell_type": "code",
   "execution_count": 146,
   "id": "dc2714ef",
   "metadata": {},
   "outputs": [
    {
     "data": {
      "text/html": [
       "<script>\n",
       "function toggle_next(event) {\n",
       "    $(event.target).closest('div.code_cell').next().find('div.output').toggle();\n",
       "}\n",
       "</script>\n",
       "<a onclick=\"toggle_next(event)\"><b>Stopp-W&ouml;rter ein-/ausblenden</b></a>"
      ],
      "text/plain": [
       "<IPython.core.display.HTML object>"
      ]
     },
     "execution_count": 146,
     "metadata": {},
     "output_type": "execute_result"
    }
   ],
   "source": [
    "HTML('''<script>\n",
    "function toggle_next(event) {\n",
    "    $(event.target).closest('div.code_cell').next().find('div.output').toggle();\n",
    "}\n",
    "</script>\n",
    "<a onclick=\"toggle_next(event)\"><b>Stopp-W&ouml;rter ein-/ausblenden</b></a>''')"
   ]
  },
  {
   "cell_type": "code",
   "execution_count": 147,
   "id": "bf3ad5f5",
   "metadata": {},
   "outputs": [
    {
     "name": "stdout",
     "output_type": "stream",
     "text": [
      "{'warst', 'allem', 'ist', 'kein', 'für', 'solchen', 'könnte', 'waren', 'ihre', 'machen', 'dir', 'seinem', 'ihr', 'hinter', 'doch', 'das', 'keinem', 'dies', 'während', 'viel', 'dieser', 'solche', 'am', 'seines', 'solches', 'dort', 'keiner', 'solcher', 'jene', 'meines', 'denn', 'ihm', 'eurem', 'diesen', 'jedem', 'ob', 'ins', 'nichts', 'sein', 'werden', 'wollte', 'jener', 'uns', 'jedes', 'anderen', 'meiner', 'mein', 'desselben', 'zur', 'demselben', 'einigen', 'ich', 'denselben', 'sind', 'unseren', 'meinen', 'unsere', 'was', 'deiner', 'wirst', 'bei', 'als', 'dass', 'in', 'deines', 'dein', 'du', 'ihrer', 'seiner', 'sollte', 'werde', 'keinen', 'auch', 'wieder', 'etwas', 'jeder', 'anderm', 'einer', 'seinen', 'dieselbe', 'anderr', 'wie', 'einig', 'alles', 'hatte', 'eures', 'welches', 'manchen', 'weiter', 'wird', 'dessen', 'den', 'unserem', 'sehr', 'kann', 'manchem', 'um', 'bin', 'ihnen', 'bis', 'gewesen', 'nicht', 'anderem', 'musste', 'wenn', 'andern', 'wollen', 'dieses', 'meinem', 'die', 'zu', 'euch', 'seine', 'sie', 'solchem', 'welchen', 'alle', 'dasselbe', 'gegen', 'noch', 'jenes', 'mancher', 'anderer', 'einiger', 'hin', 'können', 'derselben', 'ander', 'derselbe', 'aber', 'er', 'damit', 'so', 'über', 'derer', 'nach', 'nur', 'weg', 'einigem', 'an', 'unseres', 'dieselben', 'aller', 'einen', 'eines', 'vor', 'andere', 'dazu', 'eurer', 'weil', 'jetzt', 'welche', 'mir', 'hab', 'bist', 'oder', 'keines', 'mit', 'und', 'diesem', 'hatten', 'zwar', 'welcher', 'jeden', 'ihres', 'sich', 'daß', 'deine', 'manche', 'welchem', 'vom', 'einiges', 'es', 'ihrem', 'euren', 'jenen', 'zum', 'war', 'aus', 'des', 'eine', 'ohne', 'einmal', 'unser', 'wo', 'meine', 'nun', 'von', 'jede', 'man', 'euer', 'keine', 'jenem', 'sondern', 'sonst', 'deinen', 'also', 'anders', 'würde', 'selbst', 'eure', 'deinem', 'haben', 'unter', 'durch', 'wir', 'auf', 'einige', 'allen', 'im', 'soll', 'ihren', 'dann', 'einem', 'ihn', 'dem', 'der', 'habe', 'hier', 'dich', 'muss', 'will', 'mich', 'da', 'anderes', 'diese', 'manches', 'zwischen', 'indem', 'hat', 'ein', 'würden'}\n"
     ]
    }
   ],
   "source": [
    "stemmer = SnowballStemmer(\"german\")\n",
    "with urlopen(\"https://raw.githubusercontent.com/gosia-malgosia/german-stop-words/master/german-stop-words.txt\") as file:\n",
    "    stopwords_encoded = file.read().splitlines()\n",
    "#stopwords = [word.decode('utf8') for word in stopwords_encoded]\n",
    "#with open(\"de_stopwords.json\", encoding=\"utf-8\") as stopw:\n",
    "#    stopwords = stopw.read()\n",
    "stopwords = set(stopwords.words(\"german\"))\n",
    "\n",
    "def text_filter(words):\n",
    "    re_wspace = re.compile(r\"\\s+\", re.IGNORECASE)\n",
    "    re_ascii = re.compile(r\"[^A-Za-zÀ-ž ]\", re.IGNORECASE)\n",
    "    re_singlechar = re.compile(r\"\\b[A-Za-zÀ-ž]\\b\", re.IGNORECASE)\n",
    "    words = re.sub(re_wspace, \" \", words)\n",
    "    words = re.sub(re_ascii, \" \", words)\n",
    "    words = re.sub(re_singlechar, \" \", words)\n",
    "    tokenized = word_tokenize(words)\n",
    "    text_lower = [token.lower() for token in tokenized]\n",
    "    stopwords_removed = [word for word in text_lower if word not in stopwords]\n",
    "    stemmed_words = [stemmer.stem(word) for word in stopwords_removed]\n",
    "    filtered = \" \".join(stemmed_words)\n",
    "    return filtered\n",
    "\n",
    "def filter_nostemming(words):\n",
    "    re_wspace = re.compile(r\"\\s+\", re.IGNORECASE)\n",
    "    re_ascii = re.compile(r\"[^A-Za-zÀ-ž ]\", re.IGNORECASE)\n",
    "    re_singlechar = re.compile(r\"\\b[A-Za-zÀ-ž]\\b\", re.IGNORECASE)\n",
    "    words = re.sub(re_wspace, \" \", words)\n",
    "    words = re.sub(re_ascii, \" \", words)\n",
    "    words = re.sub(re_singlechar, \" \", words)\n",
    "    tokenized = word_tokenize(words)\n",
    "    text_lower = [token.lower() for token in tokenized]\n",
    "    stopwords_removed = [word for word in text_lower if word not in stopwords]\n",
    "    \n",
    "    filtered_notstemmed = \" \".join(stopwords_removed)\n",
    "    return filtered_notstemmed\n",
    "\n",
    "print(stopwords)"
   ]
  },
  {
   "cell_type": "code",
   "execution_count": 148,
   "id": "9807ee0c",
   "metadata": {},
   "outputs": [
    {
     "data": {
      "text/markdown": [
       "Originaltext <b>&quot;text&quot;</b> vs normalisierter Text <b>&quot;clean_text&quot;</b>"
      ],
      "text/plain": [
       "<IPython.core.display.Markdown object>"
      ]
     },
     "metadata": {},
     "output_type": "display_data"
    },
    {
     "data": {
      "text/html": [
       "<div>\n",
       "<style scoped>\n",
       "    .dataframe tbody tr th:only-of-type {\n",
       "        vertical-align: middle;\n",
       "    }\n",
       "\n",
       "    .dataframe tbody tr th {\n",
       "        vertical-align: top;\n",
       "    }\n",
       "\n",
       "    .dataframe thead th {\n",
       "        text-align: right;\n",
       "    }\n",
       "</style>\n",
       "<table border=\"1\" class=\"dataframe\">\n",
       "  <thead>\n",
       "    <tr style=\"text-align: right;\">\n",
       "      <th></th>\n",
       "      <th>text</th>\n",
       "      <th>positive</th>\n",
       "      <th>clean_text</th>\n",
       "    </tr>\n",
       "  </thead>\n",
       "  <tbody>\n",
       "    <tr>\n",
       "      <th>5600</th>\n",
       "      <td>Endlich ein verdammt leckere Alternative! Supe...</td>\n",
       "      <td>1</td>\n",
       "      <td>endlich verdammt leckere alternative super tol...</td>\n",
       "    </tr>\n",
       "    <tr>\n",
       "      <th>5601</th>\n",
       "      <td>sehr leckerer Leberwurstgeschmack nach meinem ...</td>\n",
       "      <td>1</td>\n",
       "      <td>leckerer leberwurstgeschmack empfinden konsist...</td>\n",
       "    </tr>\n",
       "    <tr>\n",
       "      <th>5602</th>\n",
       "      <td>Bisher wurde ich immer enttäuscht von dem Gesc...</td>\n",
       "      <td>1</td>\n",
       "      <td>bisher wurde immer enttäuscht geschmack vegane...</td>\n",
       "    </tr>\n",
       "    <tr>\n",
       "      <th>5603</th>\n",
       "      <td>Dieser Aufstrich gehört bei mir zum Frühstück ...</td>\n",
       "      <td>1</td>\n",
       "      <td>aufstrich gehört frühstück abendbrot schon sta...</td>\n",
       "    </tr>\n",
       "    <tr>\n",
       "      <th>5604</th>\n",
       "      <td>von konsistenz und geschmack kaum von echter l...</td>\n",
       "      <td>1</td>\n",
       "      <td>konsistenz geschmack kaum echter leberwurst un...</td>\n",
       "    </tr>\n",
       "    <tr>\n",
       "      <th>5605</th>\n",
       "      <td>War leider schon drei Tage nachdem ich das Pak...</td>\n",
       "      <td>1</td>\n",
       "      <td>leider schon drei tage nachdem paket bekommen ...</td>\n",
       "    </tr>\n",
       "    <tr>\n",
       "      <th>5606</th>\n",
       "      <td>Diese Violife-Scheiben schmecken mir gut. Ich ...</td>\n",
       "      <td>1</td>\n",
       "      <td>violife scheiben schmecken gut weiß jedoch piz...</td>\n",
       "    </tr>\n",
       "    <tr>\n",
       "      <th>5607</th>\n",
       "      <td>Selbst mein Omni hat die Scheiben gern, weil d...</td>\n",
       "      <td>1</td>\n",
       "      <td>omni scheiben gern leckere pizza geschmack ebe...</td>\n",
       "    </tr>\n",
       "    <tr>\n",
       "      <th>5608</th>\n",
       "      <td>Angenehm frisch, leicht süßlich, mindestens so...</td>\n",
       "      <td>1</td>\n",
       "      <td>angenehm frisch leicht süßlich mindestens leck...</td>\n",
       "    </tr>\n",
       "    <tr>\n",
       "      <th>5609</th>\n",
       "      <td>Wirklich köstlich, ich bin begeistert. Schade,...</td>\n",
       "      <td>1</td>\n",
       "      <td>wirklich köstlich begeistert schade wenig drin</td>\n",
       "    </tr>\n",
       "  </tbody>\n",
       "</table>\n",
       "</div>"
      ],
      "text/plain": [
       "                                                   text  positive  \\\n",
       "5600  Endlich ein verdammt leckere Alternative! Supe...         1   \n",
       "5601  sehr leckerer Leberwurstgeschmack nach meinem ...         1   \n",
       "5602  Bisher wurde ich immer enttäuscht von dem Gesc...         1   \n",
       "5603  Dieser Aufstrich gehört bei mir zum Frühstück ...         1   \n",
       "5604  von konsistenz und geschmack kaum von echter l...         1   \n",
       "5605  War leider schon drei Tage nachdem ich das Pak...         1   \n",
       "5606  Diese Violife-Scheiben schmecken mir gut. Ich ...         1   \n",
       "5607  Selbst mein Omni hat die Scheiben gern, weil d...         1   \n",
       "5608  Angenehm frisch, leicht süßlich, mindestens so...         1   \n",
       "5609  Wirklich köstlich, ich bin begeistert. Schade,...         1   \n",
       "\n",
       "                                             clean_text  \n",
       "5600  endlich verdammt leckere alternative super tol...  \n",
       "5601  leckerer leberwurstgeschmack empfinden konsist...  \n",
       "5602  bisher wurde immer enttäuscht geschmack vegane...  \n",
       "5603  aufstrich gehört frühstück abendbrot schon sta...  \n",
       "5604  konsistenz geschmack kaum echter leberwurst un...  \n",
       "5605  leider schon drei tage nachdem paket bekommen ...  \n",
       "5606  violife scheiben schmecken gut weiß jedoch piz...  \n",
       "5607  omni scheiben gern leckere pizza geschmack ebe...  \n",
       "5608  angenehm frisch leicht süßlich mindestens leck...  \n",
       "5609     wirklich köstlich begeistert schade wenig drin  "
      ]
     },
     "execution_count": 148,
     "metadata": {},
     "output_type": "execute_result"
    }
   ],
   "source": [
    "df_samples[\"clean_text\"] = df_samples[\"text\"].apply(lambda row: text_filter(row))\n",
    "df_backup[\"clean_text\"] = df_backup[\"text\"].apply(lambda row: filter_nostemming(row))\n",
    "df_samples.clean_text.str.split(expand=True).stack().value_counts()\n",
    "printmd(\"Originaltext <b>&quot;text&quot;</b> vs normalisierter Text <b>&quot;clean_text&quot;</b>\")\n",
    "#df_samples.head()\n",
    "\n",
    "df_samples.loc[[5600,5601,5602,5603,5604,5605,5606,5607,5608,5609],:]"
   ]
  },
  {
   "cell_type": "code",
   "execution_count": 149,
   "id": "944c7fae",
   "metadata": {},
   "outputs": [
    {
     "data": {},
     "metadata": {},
     "output_type": "display_data"
    },
    {
     "data": {
      "application/vnd.holoviews_exec.v0+json": "",
      "text/html": [
       "<div id='1705'>\n",
       "\n",
       "\n",
       "\n",
       "\n",
       "\n",
       "  <div class=\"bk-root\" id=\"804a615d-5693-4010-b648-a480b14866ba\" data-root-id=\"1705\"></div>\n",
       "</div>\n",
       "<script type=\"application/javascript\">(function(root) {\n",
       "  function embed_document(root) {\n",
       "    var docs_json = {\"d756c4b7-36e4-4fd6-b206-569594ebb24c\":{\"defs\":[],\"roots\":{\"references\":[{\"attributes\":{\"fill_alpha\":{\"value\":0.1},\"fill_color\":{\"value\":\"#30a2da\"},\"line_alpha\":{\"value\":0.1},\"top\":{\"field\":\"Am_h\\u00e4ufigsten_verwendete_W\\u00f6rter_im_Datensatz\"},\"width\":{\"value\":0.8},\"x\":{\"field\":\"index\"}},\"id\":\"1743\",\"type\":\"VBar\"},{\"attributes\":{},\"id\":\"1704\",\"type\":\"NumeralTickFormatter\"},{\"attributes\":{\"fill_color\":{\"value\":\"#30a2da\"},\"top\":{\"field\":\"Am_h\\u00e4ufigsten_verwendete_W\\u00f6rter_im_Datensatz\"},\"width\":{\"value\":0.8},\"x\":{\"field\":\"index\"}},\"id\":\"1742\",\"type\":\"VBar\"},{\"attributes\":{\"fill_alpha\":{\"value\":0.2},\"fill_color\":{\"value\":\"#30a2da\"},\"line_alpha\":{\"value\":0.2},\"top\":{\"field\":\"Am_h\\u00e4ufigsten_verwendete_W\\u00f6rter_im_Datensatz\"},\"width\":{\"value\":0.8},\"x\":{\"field\":\"index\"}},\"id\":\"1744\",\"type\":\"VBar\"},{\"attributes\":{},\"id\":\"1764\",\"type\":\"UnionRenderers\"},{\"attributes\":{\"text\":\"Am h\\u00e4ufigsten verwendete W\\u00f6rter im Datensatz\",\"text_color\":\"black\",\"text_font_size\":\"12pt\"},\"id\":\"1711\",\"type\":\"Title\"},{\"attributes\":{},\"id\":\"1748\",\"type\":\"CategoricalTickFormatter\"},{\"attributes\":{\"bottom\":{\"value\":0},\"fill_alpha\":{\"value\":1.0},\"fill_color\":{\"value\":\"#30a2da\"},\"hatch_alpha\":{\"value\":1.0},\"hatch_color\":{\"value\":\"black\"},\"hatch_scale\":{\"value\":12.0},\"hatch_weight\":{\"value\":1.0},\"line_alpha\":{\"value\":1.0},\"line_cap\":{\"value\":\"butt\"},\"line_color\":{\"value\":\"black\"},\"line_dash\":{\"value\":[]},\"line_dash_offset\":{\"value\":0},\"line_join\":{\"value\":\"bevel\"},\"line_width\":{\"value\":1},\"top\":{\"field\":\"Am_h\\u00e4ufigsten_verwendete_W\\u00f6rter_im_Datensatz\"},\"width\":{\"value\":0.8},\"x\":{\"field\":\"index\"}},\"id\":\"1747\",\"type\":\"VBar\"},{\"attributes\":{\"source\":{\"id\":\"1739\"}},\"id\":\"1746\",\"type\":\"CDSView\"},{\"attributes\":{\"factors\":[\"gut\",\"schmeckt\",\"geschmack\",\"super\",\"konsistenz\",\"produkt\",\"einfach\",\"wirklich\",\"leider\",\"mal\",\"schon\",\"immer\",\"mehr\",\"alternative\",\"ganz\",\"schmecken\",\"geschmacklich\",\"finde\",\"besser\",\"preis\",\"beste\",\"gute\",\"echt\",\"k\\u00e4se\",\"gerne\",\"gibt\",\"vegane\",\"perfekt\",\"beim\",\"richtig\",\"top\",\"essen\",\"kaufen\",\"ja\",\"empfehlen\",\"schnell\",\"the\",\"s\\u00fc\\u00df\",\"brot\"],\"tags\":[[[\"index\",\"index\",null]]]},\"id\":\"1707\",\"type\":\"FactorRange\"},{\"attributes\":{\"data\":{\"Am_h\\u00e4ufigsten_verwendete_W\\u00f6rter_im_Datensatz\":[1535,1415,1152,1042,693,619,605,578,562,541,486,476,468,378,378,373,359,328,320,309,307,296,272,263,262,253,244,241,230,228,227,224,220,212,212,205,196,195,193],\"index\":[\"gut\",\"schmeckt\",\"geschmack\",\"super\",\"konsistenz\",\"produkt\",\"einfach\",\"wirklich\",\"leider\",\"mal\",\"schon\",\"immer\",\"mehr\",\"alternative\",\"ganz\",\"schmecken\",\"geschmacklich\",\"finde\",\"besser\",\"preis\",\"beste\",\"gute\",\"echt\",\"k\\u00e4se\",\"gerne\",\"gibt\",\"vegane\",\"perfekt\",\"beim\",\"richtig\",\"top\",\"essen\",\"kaufen\",\"ja\",\"empfehlen\",\"schnell\",\"the\",\"s\\u00fc\\u00df\",\"brot\"]},\"selected\":{\"id\":\"1740\"},\"selection_policy\":{\"id\":\"1764\"}},\"id\":\"1739\",\"type\":\"ColumnDataSource\"},{\"attributes\":{\"bottom_units\":\"screen\",\"fill_alpha\":0.5,\"fill_color\":\"lightgrey\",\"left_units\":\"screen\",\"level\":\"overlay\",\"line_alpha\":1.0,\"line_color\":\"black\",\"line_dash\":[4,4],\"line_width\":2,\"right_units\":\"screen\",\"syncable\":false,\"top_units\":\"screen\"},\"id\":\"1731\",\"type\":\"BoxAnnotation\"},{\"attributes\":{},\"id\":\"1726\",\"type\":\"SaveTool\"},{\"attributes\":{},\"id\":\"1750\",\"type\":\"AllLabels\"},{\"attributes\":{\"overlay\":{\"id\":\"1731\"}},\"id\":\"1729\",\"type\":\"BoxZoomTool\"},{\"attributes\":{},\"id\":\"1728\",\"type\":\"WheelZoomTool\"},{\"attributes\":{\"data_source\":{\"id\":\"1739\"},\"glyph\":{\"id\":\"1742\"},\"hover_glyph\":null,\"muted_glyph\":{\"id\":\"1744\"},\"nonselection_glyph\":{\"id\":\"1743\"},\"selection_glyph\":{\"id\":\"1747\"},\"view\":{\"id\":\"1746\"}},\"id\":\"1745\",\"type\":\"GlyphRenderer\"},{\"attributes\":{\"axis_label\":\"\",\"formatter\":{\"id\":\"1704\"},\"major_label_policy\":{\"id\":\"1751\"},\"ticker\":{\"id\":\"1723\"}},\"id\":\"1722\",\"type\":\"LinearAxis\"},{\"attributes\":{},\"id\":\"1740\",\"type\":\"Selection\"},{\"attributes\":{\"children\":[{\"id\":\"1706\"},{\"id\":\"1710\"},{\"id\":\"1774\"}],\"margin\":[0,0,0,0],\"name\":\"Row02826\",\"tags\":[\"embedded\"]},\"id\":\"1705\",\"type\":\"Row\"},{\"attributes\":{},\"id\":\"1723\",\"type\":\"BasicTicker\"},{\"attributes\":{},\"id\":\"1717\",\"type\":\"LinearScale\"},{\"attributes\":{},\"id\":\"1727\",\"type\":\"PanTool\"},{\"attributes\":{},\"id\":\"1730\",\"type\":\"ResetTool\"},{\"attributes\":{\"margin\":[5,5,5,5],\"name\":\"HSpacer02830\",\"sizing_mode\":\"stretch_width\"},\"id\":\"1706\",\"type\":\"Spacer\"},{\"attributes\":{\"axis_label\":\"\",\"formatter\":{\"id\":\"1748\"},\"major_label_orientation\":0.7853981633974483,\"major_label_policy\":{\"id\":\"1750\"},\"ticker\":{\"id\":\"1720\"}},\"id\":\"1719\",\"type\":\"CategoricalAxis\"},{\"attributes\":{\"active_multi\":null,\"tools\":[{\"id\":\"1709\"},{\"id\":\"1726\"},{\"id\":\"1727\"},{\"id\":\"1728\"},{\"id\":\"1729\"},{\"id\":\"1730\"}]},\"id\":\"1732\",\"type\":\"Toolbar\"},{\"attributes\":{},\"id\":\"1751\",\"type\":\"AllLabels\"},{\"attributes\":{},\"id\":\"1720\",\"type\":\"CategoricalTicker\"},{\"attributes\":{\"below\":[{\"id\":\"1719\"}],\"center\":[{\"id\":\"1721\"},{\"id\":\"1725\"}],\"height\":400,\"left\":[{\"id\":\"1722\"}],\"margin\":[5,5,5,5],\"min_border_bottom\":10,\"min_border_left\":10,\"min_border_right\":10,\"min_border_top\":10,\"renderers\":[{\"id\":\"1745\"}],\"sizing_mode\":\"fixed\",\"title\":{\"id\":\"1711\"},\"toolbar\":{\"id\":\"1732\"},\"width\":700,\"x_range\":{\"id\":\"1707\"},\"x_scale\":{\"id\":\"1715\"},\"y_range\":{\"id\":\"1708\"},\"y_scale\":{\"id\":\"1717\"}},\"id\":\"1710\",\"subtype\":\"Figure\",\"type\":\"Plot\"},{\"attributes\":{\"axis\":{\"id\":\"1719\"},\"grid_line_color\":null,\"ticker\":null},\"id\":\"1721\",\"type\":\"Grid\"},{\"attributes\":{\"end\":1669.2,\"reset_end\":1669.2,\"reset_start\":0.0,\"tags\":[[[\"Am h\\u00e4ufigsten verwendete W\\u00f6rter im Datensatz\",\"Am h\\u00e4ufigsten verwendete W\\u00f6rter im Datensatz\",null]]]},\"id\":\"1708\",\"type\":\"Range1d\"},{\"attributes\":{\"callback\":null,\"renderers\":[{\"id\":\"1745\"}],\"tags\":[\"hv_created\"],\"tooltips\":[[\"index\",\"@{index}\"],[\"Am h\\u00e4ufigsten verwendete W\\u00f6rter im Datensatz\",\"@{Am_h\\u00e4ufigsten_verwendete_W\\u00f6rter_im_Datensatz}\"]]},\"id\":\"1709\",\"type\":\"HoverTool\"},{\"attributes\":{},\"id\":\"1715\",\"type\":\"CategoricalScale\"},{\"attributes\":{\"axis\":{\"id\":\"1722\"},\"dimension\":1,\"grid_line_color\":null,\"ticker\":null},\"id\":\"1725\",\"type\":\"Grid\"},{\"attributes\":{\"margin\":[5,5,5,5],\"name\":\"HSpacer02831\",\"sizing_mode\":\"stretch_width\"},\"id\":\"1774\",\"type\":\"Spacer\"}],\"root_ids\":[\"1705\"]},\"title\":\"Bokeh Application\",\"version\":\"2.3.1\"}};\n",
       "    var render_items = [{\"docid\":\"d756c4b7-36e4-4fd6-b206-569594ebb24c\",\"root_ids\":[\"1705\"],\"roots\":{\"1705\":\"804a615d-5693-4010-b648-a480b14866ba\"}}];\n",
       "    root.Bokeh.embed.embed_items_notebook(docs_json, render_items);\n",
       "  }\n",
       "  if (root.Bokeh !== undefined && root.Bokeh.Panel !== undefined) {\n",
       "    embed_document(root);\n",
       "  } else {\n",
       "    var attempts = 0;\n",
       "    var timer = setInterval(function(root) {\n",
       "      if (root.Bokeh !== undefined && root.Bokeh.Panel !== undefined) {\n",
       "        clearInterval(timer);\n",
       "        embed_document(root);\n",
       "      } else if (document.readyState == \"complete\") {\n",
       "        attempts++;\n",
       "        if (attempts > 100) {\n",
       "          clearInterval(timer);\n",
       "          console.log(\"Bokeh: ERROR: Unable to run BokehJS code because BokehJS library is missing\");\n",
       "        }\n",
       "      }\n",
       "    }, 10, root)\n",
       "  }\n",
       "})(window);</script>"
      ],
      "text/plain": [
       ":Bars   [index]   (Am häufigsten verwendete Wörter im Datensatz)"
      ]
     },
     "execution_count": 149,
     "metadata": {
      "application/vnd.holoviews_exec.v0+json": {
       "id": "1705"
      }
     },
     "output_type": "execute_result"
    }
   ],
   "source": [
    "word_freq = pd.Series(\" \".join(df_backup[\"clean_text\"]).split()).value_counts()\n",
    "word_freq[1:40].rename(\"Am häufigsten verwendete Wörter im Datensatz\").hvplot.bar(\n",
    "    rot=45\n",
    ").opts(width=700, height=400, yformatter=NumeralTickFormatter(format=\"0,0\"))"
   ]
  },
  {
   "cell_type": "code",
   "execution_count": 150,
   "id": "7457f57f",
   "metadata": {},
   "outputs": [
    {
     "name": "stdout",
     "output_type": "stream",
     "text": [
      "Training Sample Size: 9180\n",
      "Test Sample Size: 1020\n"
     ]
    }
   ],
   "source": [
    "vectorizer = TfidfVectorizer(ngram_range=(1, 2), min_df=3)\n",
    "vectorizer.fit(df_samples[\"clean_text\"])\n",
    "\n",
    "train, test = train_test_split(df_samples, random_state=1, test_size=0.1)\n",
    "x_train = train[\"clean_text\"]\n",
    "y_train = train[\"positive\"]\n",
    "x_test = test[\"clean_text\"]\n",
    "y_test = test[\"positive\"]\n",
    "\n",
    "training_scores = vectorizer.transform(x_train)\n",
    "test_scores = vectorizer.transform(x_test)\n",
    "\n",
    "print(\"Training Sample Size: {}\".format(x_train.shape[0]))\n",
    "print(\"Test Sample Size: {}\".format(x_test.shape[0]))"
   ]
  },
  {
   "cell_type": "code",
   "execution_count": 151,
   "id": "73928ff8",
   "metadata": {},
   "outputs": [
    {
     "data": {
      "text/markdown": [
       "Aktuelle G&uuml;te des Modells:\n"
      ],
      "text/plain": [
       "<IPython.core.display.Markdown object>"
      ]
     },
     "metadata": {},
     "output_type": "display_data"
    },
    {
     "name": "stdout",
     "output_type": "stream",
     "text": [
      "              precision    recall  f1-score   support\n",
      "\n",
      "           0       0.93      0.33      0.48       196\n",
      "           1       0.86      0.99      0.92       824\n",
      "\n",
      "    accuracy                           0.87      1020\n",
      "   macro avg       0.89      0.66      0.70      1020\n",
      "weighted avg       0.87      0.87      0.84      1020\n",
      "\n"
     ]
    }
   ],
   "source": [
    "classifier = MultinomialNB()\n",
    "classifier.fit(training_scores, y_train)\n",
    "prediction = classifier.predict(test_scores)\n",
    "printmd(\"Aktuelle G&uuml;te des Modells:\\n\")\n",
    "print(classification_report(y_test, prediction))\n"
   ]
  },
  {
   "cell_type": "code",
   "execution_count": 152,
   "id": "9e06b6b2",
   "metadata": {},
   "outputs": [
    {
     "data": {
      "text/plain": [
       "Pipeline(steps=[('tfidfvectorizer',\n",
       "                 TfidfVectorizer(min_df=6, ngram_range=(1, 3))),\n",
       "                ('multinomialnb', MultinomialNB())])"
      ]
     },
     "execution_count": 152,
     "metadata": {},
     "output_type": "execute_result"
    }
   ],
   "source": [
    "pipeline = make_pipeline(TfidfVectorizer(ngram_range=(1, 3), min_df=6), MultinomialNB())\n",
    "pipeline.fit(x_train, y_train)"
   ]
  },
  {
   "cell_type": "code",
   "execution_count": 164,
   "id": "d8dcc175",
   "metadata": {},
   "outputs": [
    {
     "data": {
      "text/markdown": [
       "<h3>Bitte hier Text eingeben und mit &quot;Enter&quot; best&auml;tigen:</h3>"
      ],
      "text/plain": [
       "<IPython.core.display.Markdown object>"
      ]
     },
     "metadata": {},
     "output_type": "display_data"
    },
    {
     "data": {
      "application/vnd.jupyter.widget-view+json": {
       "model_id": "d84cc7976c47420b9ee5b93b97867808",
       "version_major": 2,
       "version_minor": 0
      },
      "text/plain": [
       "Text(value='')"
      ]
     },
     "metadata": {},
     "output_type": "display_data"
    }
   ],
   "source": [
    "printmd(\"<h3>Bitte hier Text eingeben und mit &quot;Enter&quot; best&auml;tigen:</h3>\")\n",
    "text = widgets.Text()\n",
    "display(text)\n",
    "\n",
    "def get_submit(mock_review):\n",
    "    text = text_filter(mock_review.value)\n",
    "    prediction = pipeline.predict([text])\n",
    "    print(\"\\\"{}\\\"\".format(mock_review.value))\n",
    "    if mock_review == None:\n",
    "        pass\n",
    "    elif prediction == 0:\n",
    "        print(\"negativ\")\n",
    "        print(pipeline.predict_proba([text]))\n",
    "        \n",
    "    elif prediction == 1:\n",
    "        print(\"positiv\")\n",
    "        print(pipeline.predict_proba([text]))\n",
    "        \n",
    "    else:\n",
    "        print(\"Fehler\")\n",
    "    print(\"\\n\")\n",
    "\n",
    "text.on_submit(get_submit)"
   ]
  },
  {
   "cell_type": "code",
   "execution_count": 156,
   "id": "a4cf78d0",
   "metadata": {},
   "outputs": [
    {
     "data": {
      "text/html": [
       "<script>\n",
       "code_show=true; \n",
       "function code_toggle() {\n",
       " if (code_show){\n",
       " $('div.input').hide();\n",
       " } else {\n",
       " $('div.input').show();\n",
       " }\n",
       " code_show = !code_show\n",
       "} \n",
       "$( document ).ready(code_toggle);\n",
       "</script>\n",
       "<a href=\"javascript:code_toggle()\"><b>Gesamten Quellcode ein-/ausblenden</b></a>."
      ],
      "text/plain": [
       "<IPython.core.display.HTML object>"
      ]
     },
     "execution_count": 156,
     "metadata": {},
     "output_type": "execute_result"
    }
   ],
   "source": [
    "HTML('''<script>\n",
    "code_show=true; \n",
    "function code_toggle() {\n",
    " if (code_show){\n",
    " $('div.input').hide();\n",
    " } else {\n",
    " $('div.input').show();\n",
    " }\n",
    " code_show = !code_show\n",
    "} \n",
    "$( document ).ready(code_toggle);\n",
    "</script>\n",
    "<a href=\"javascript:code_toggle()\"><b>Gesamten Quellcode ein-/ausblenden</b></a>.''')"
   ]
  },
  {
   "cell_type": "code",
   "execution_count": 162,
   "id": "c7c897af",
   "metadata": {},
   "outputs": [
    {
     "data": {
      "text/markdown": [
       "--- end of script ---"
      ],
      "text/plain": [
       "<IPython.core.display.Markdown object>"
      ]
     },
     "metadata": {},
     "output_type": "display_data"
    }
   ],
   "source": [
    "printmd(\"--- end of script ---\")"
   ]
  }
 ],
 "metadata": {
  "kernelspec": {
   "display_name": "Python 3",
   "language": "python",
   "name": "python3"
  },
  "language_info": {
   "codemirror_mode": {
    "name": "ipython",
    "version": 3
   },
   "file_extension": ".py",
   "mimetype": "text/x-python",
   "name": "python",
   "nbconvert_exporter": "python",
   "pygments_lexer": "ipython3",
   "version": "3.8.5"
  }
 },
 "nbformat": 4,
 "nbformat_minor": 5
}
