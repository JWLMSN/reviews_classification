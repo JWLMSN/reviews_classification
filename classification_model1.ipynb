{
 "cells": [
  {
   "cell_type": "code",
   "execution_count": null,
   "metadata": {},
   "outputs": [],
   "source": [
    "%%html\n",
    "<script>\n",
    "    // AUTORUN ALL CELLS ON NOTEBOOK-LOAD!\n",
    "    require(\n",
    "        ['base/js/namespace', 'jquery'], \n",
    "        function(jupyter, $) {\n",
    "            $(jupyter.events).on(\"kernel_ready.Kernel\", function () {\n",
    "                console.log(\"Auto-running all cells-below...\");\n",
    "                jupyter.actions.call('jupyter-notebook:run-all-cells-below');\n",
    "                jupyter.actions.call('jupyter-notebook:save-notebook');\n",
    "            });\n",
    "        }\n",
    "    );\n",
    "</script>"
   ]
  },
  {
   "cell_type": "code",
   "execution_count": 16,
   "metadata": {},
   "outputs": [
    {
     "data": {
      "text/markdown": [
       "Falls nach einigen Sekunden nichts angezeigt wird, bitte die Schaltfl&auml;che bet&auml;tigen:"
      ],
      "text/plain": [
       "<IPython.core.display.Markdown object>"
      ]
     },
     "metadata": {},
     "output_type": "display_data"
    },
    {
     "data": {
      "application/vnd.jupyter.widget-view+json": {
       "model_id": "6a31fe2474304ab2bbd3694e1b43934e",
       "version_major": 2,
       "version_minor": 0
      },
      "text/plain": [
       "Button(description='Skript ausführen', style=ButtonStyle())"
      ]
     },
     "metadata": {},
     "output_type": "display_data"
    }
   ],
   "source": [
    "from IPython.display import Javascript, HTML, Markdown, display\n",
    "from ipywidgets import widgets\n",
    "import numpy as np\n",
    "import re\n",
    "import nltk\n",
    "import pandas as pd\n",
    "\n",
    "def printmd(string):\n",
    "    display(Markdown(string))\n",
    "    \n",
    "printmd(\"Falls nach einigen Sekunden nichts angezeigt wird, bitte die Schaltfl&auml;che bet&auml;tigen:\")\n",
    "\n",
    "def run_script(ev):\n",
    "    display(Javascript(\"IPython.notebook.execute_cells_below()\"))\n",
    "button = widgets.Button(description=\"Skript ausführen\")\n",
    "button.on_click(run_script)\n",
    "display(button)"
   ]
  },
  {
   "cell_type": "code",
   "execution_count": 17,
   "metadata": {},
   "outputs": [
    {
     "data": {
      "text/html": [
       "<script>\n",
       "code_show=true; \n",
       "function code_toggle() {\n",
       " if (code_show){\n",
       " $('div.input').hide();\n",
       " } else {\n",
       " $('div.input').show();\n",
       " }\n",
       " code_show = !code_show\n",
       "} \n",
       "$( document ).ready(code_toggle);\n",
       "</script>\n",
       "<a href=\"javascript:code_toggle()\"><b>Gesamten Quellcode ein-/ausblenden</b></a>."
      ],
      "text/plain": [
       "<IPython.core.display.HTML object>"
      ]
     },
     "execution_count": 17,
     "metadata": {},
     "output_type": "execute_result"
    }
   ],
   "source": [
    "HTML('''<script>\n",
    "code_show=true; \n",
    "function code_toggle() {\n",
    " if (code_show){\n",
    " $('div.input').hide();\n",
    " } else {\n",
    " $('div.input').show();\n",
    " }\n",
    " code_show = !code_show\n",
    "} \n",
    "$( document ).ready(code_toggle);\n",
    "</script>\n",
    "<a href=\"javascript:code_toggle()\"><b>Gesamten Quellcode ein-/ausblenden</b></a>.''')"
   ]
  },
  {
   "cell_type": "code",
   "execution_count": 18,
   "metadata": {},
   "outputs": [],
   "source": [
    "df1 = pd.read_json(\"amazon/misc_reviews.json\")\n",
    "df2 = pd.read_json(\"amazon/pommersche.json\")\n",
    "df3 = pd.read_json(\"amazon/more_reviews.json\")\n",
    "df4 = pd.read_json(\"vantastic_foods/vantastic_fleischersatz.json\")\n",
    "df5 = pd.read_json(\"vantastic_foods/vantastic_misc.json\")\n",
    "df6 = pd.read_json(\"vekoop/reviews.json\")\n",
    "\n",
    "df6 = df6.rename(columns={\"text\": \"review\", \"date_time\": \"date\", \"topic_title\": \"product_name\"})\n",
    "dfa = pd.concat([df1, df2, df3])\n",
    "dfb = pd.concat([df4, df5])\n",
    "\n",
    "dfa = dfa.drop_duplicates()\n",
    "dfb = dfb.drop_duplicates()\n",
    "df6 = df6.drop_duplicates()\n",
    "\n",
    "dfa[\"date\"] = dfa[\"date\"].replace(\"(Rezension aus Deutschland vom )\", \"\", regex=True)\n",
    "dfa[\"date\"] = dfa[\"date\"].replace({\"Januar\": \"Jan\", \"Februar\": \"Feb\", \"März\": \"Mar\", \"April\": \"Apr\", \"Mai\": \"May\", \"Juni\": \"Jun\", \"Juli\": \"Jul\", \"August\": \"Aug\", \"Semptember\": \"Sep\", \"Oktober\": \"Oct\", \"November\": \"Nov\", \"Dezember\": \"Dec\"}, regex=True)\n",
    "dfa = dfa[~dfa.date.str.contains(\"Königreich\")]\n",
    "dfa.date = pd.to_datetime(dfa.date)"
   ]
  },
  {
   "cell_type": "code",
   "execution_count": 19,
   "metadata": {},
   "outputs": [
    {
     "data": {
      "text/markdown": [
       "<b>Struktur des vollst&auml;ndigen Datensatzes</b>"
      ],
      "text/plain": [
       "<IPython.core.display.Markdown object>"
      ]
     },
     "metadata": {},
     "output_type": "display_data"
    },
    {
     "name": "stdout",
     "output_type": "stream",
     "text": [
      "<class 'pandas.core.frame.DataFrame'>\n",
      "Int64Index: 5100 entries, 0 to 5107\n",
      "Data columns (total 6 columns):\n",
      " #   Column        Non-Null Count  Dtype         \n",
      "---  ------        --------------  -----         \n",
      " 0   product_name  5100 non-null   object        \n",
      " 1   author        5098 non-null   object        \n",
      " 2   rating        5100 non-null   int64         \n",
      " 3   title         5100 non-null   object        \n",
      " 4   date          5100 non-null   datetime64[ns]\n",
      " 5   review        5100 non-null   object        \n",
      "dtypes: datetime64[ns](1), int64(1), object(4)\n",
      "memory usage: 278.9+ KB\n"
     ]
    }
   ],
   "source": [
    "df = pd.concat([dfa, dfb, df6])\n",
    "df = df.reset_index(drop=True)\n",
    "df = df[df[\"review\"].notna()]\n",
    "printmd(\"<b>Struktur des vollst&auml;ndigen Datensatzes</b>\")\n",
    "df.info()"
   ]
  },
  {
   "cell_type": "code",
   "execution_count": 20,
   "metadata": {},
   "outputs": [
    {
     "data": {
      "text/markdown": [
       "<b>Struktur des Text-Datensatzes</b>"
      ],
      "text/plain": [
       "<IPython.core.display.Markdown object>"
      ]
     },
     "metadata": {},
     "output_type": "display_data"
    },
    {
     "name": "stdout",
     "output_type": "stream",
     "text": [
      "<class 'pandas.core.frame.DataFrame'>\n",
      "RangeIndex: 10200 entries, 0 to 10199\n",
      "Data columns (total 2 columns):\n",
      " #   Column    Non-Null Count  Dtype \n",
      "---  ------    --------------  ----- \n",
      " 0   text      10200 non-null  object\n",
      " 1   positive  10200 non-null  int64 \n",
      "dtypes: int64(1), object(1)\n",
      "memory usage: 159.5+ KB\n"
     ]
    }
   ],
   "source": [
    "df[\"positive\"] = np.where(df[\"rating\"] > 3, 1, 0)\n",
    "\n",
    "df_pos_temp = df[[\"review\", \"title\"]][df.positive == 1]\n",
    "df_neg_temp = df[[\"review\", \"title\"]][df.positive == 0]\n",
    "\n",
    "series_pos = pd.concat([df_pos_temp.title, df_pos_temp.review])\n",
    "series_neg = pd.concat([df_neg_temp.title, df_neg_temp.review])\n",
    "\n",
    "df_pos = series_pos.to_frame()\n",
    "df_neg = series_neg.to_frame()\n",
    "df_pos[\"positive\"] = 1\n",
    "df_pos = df_pos.rename(columns={0: \"text\"})\n",
    "df_neg[\"positive\"] = 0\n",
    "df_neg = df_neg.rename(columns={0: \"text\"})\n",
    "df_samples = pd.concat([df_pos, df_neg])\n",
    "df_samples = df_samples.reset_index(drop=True)\n",
    "\n",
    "df_backup = df_samples\n",
    "printmd(\"<b>Struktur des Text-Datensatzes</b>\")\n",
    "df_samples.info()"
   ]
  },
  {
   "cell_type": "code",
   "execution_count": 21,
   "metadata": {},
   "outputs": [
    {
     "data": {
      "text/html": [
       "<script>\n",
       "function toggle_next(event) {\n",
       "    $(event.target).closest('div.code_cell').next().find('div.output').toggle();\n",
       "}\n",
       "</script>\n",
       "<a onclick=\"toggle_next(event)\"><b>Stopp-W&ouml;rter ein-/ausblenden</b></a>"
      ],
      "text/plain": [
       "<IPython.core.display.HTML object>"
      ]
     },
     "execution_count": 21,
     "metadata": {},
     "output_type": "execute_result"
    }
   ],
   "source": [
    "HTML('''<script>\n",
    "function toggle_next(event) {\n",
    "    $(event.target).closest('div.code_cell').next().find('div.output').toggle();\n",
    "}\n",
    "</script>\n",
    "<a onclick=\"toggle_next(event)\"><b>Stopp-W&ouml;rter ein-/ausblenden</b></a>''')"
   ]
  },
  {
   "cell_type": "code",
   "execution_count": 22,
   "metadata": {},
   "outputs": [
    {
     "name": "stdout",
     "output_type": "stream",
     "text": [
      "{'einiger', 'und', 'anderem', 'habe', 'meine', 'selbst', 'meinen', 'eure', 'aus', 'deinem', 'bis', 'desselben', 'einer', 'sondern', 'denselben', 'aller', 'ihm', 'ihren', 'von', 'eurem', 'so', 'einige', 'derselbe', 'ihn', 'dazu', 'jenen', 'nur', 'deinen', 'sein', 'meines', 'zum', 'hier', 'dem', 'solchem', 'weil', 'jedem', 'keine', 'könnte', 'allem', 'jedes', 'demselben', 'das', 'der', 'deines', 'uns', 'einmal', 'welches', 'diesen', 'solche', 'bei', 'ihnen', 'anderm', 'zwar', 'diese', 'manche', 'zwischen', 'daß', 'euer', 'andere', 'des', 'kann', 'einig', 'sind', 'über', 'oder', 'eine', 'warst', 'dir', 'dieselbe', 'dieses', 'keines', 'machen', 'sonst', 'du', 'gewesen', 'kein', 'welchem', 'will', 'vom', 'denn', 'aber', 'hat', 'ihrem', 'haben', 'muss', 'hinter', 'keinem', 'alle', 'weiter', 'dort', 'seine', 'was', 'als', 'zu', 'mich', 'jeden', 'keiner', 'seiner', 'alles', 'im', 'jetzt', 'anders', 'er', 'keinen', 'wollen', 'vor', 'doch', 'welchen', 'da', 'indem', 'meiner', 'jenes', 'auf', 'soll', 'nun', 'anderen', 'bist', 'derselben', 'dieser', 'einem', 'euch', 'wird', 'jeder', 'eurer', 'mir', 'sollte', 'wir', 'andern', 'nach', 'unser', 'damit', 'diesem', 'die', 'noch', 'jene', 'solcher', 'ins', 'wo', 'ihre', 'wie', 'dich', 'den', 'einigen', 'eures', 'seinen', 'können', 'also', 'anderer', 'an', 'nichts', 'einigem', 'solchen', 'welche', 'werde', 'hab', 'unseren', 'anderes', 'welcher', 'in', 'einen', 'ihres', 'dein', 'manchen', 'solches', 'man', 'wirst', 'mit', 'eines', 'würden', 'anderr', 'musste', 'manches', 'ein', 'jenem', 'sie', 'seines', 'mancher', 'meinem', 'ob', 'waren', 'ich', 'deine', 'hatten', 'dasselbe', 'dieselben', 'ohne', 'würde', 'dessen', 'hin', 'ihrer', 'unter', 'unsere', 'während', 'am', 'sich', 'etwas', 'ist', 'unseres', 'allen', 'durch', 'euren', 'jede', 'seinem', 'um', 'viel', 'sehr', 'wollte', 'bin', 'nicht', 'mein', 'dann', 'es', 'gegen', 'unserem', 'dass', 'ander', 'derer', 'hatte', 'weg', 'deiner', 'auch', 'zur', 'ihr', 'manchem', 'wenn', 'werden', 'einiges', 'jener', 'war', 'für', 'wieder', 'dies'}\n"
     ]
    }
   ],
   "source": [
    "from nltk.corpus import stopwords\n",
    "from nltk.tokenize import word_tokenize\n",
    "from nltk.stem import SnowballStemmer\n",
    "from urllib.request import urlopen\n",
    "\n",
    "stemmer = SnowballStemmer(\"german\")\n",
    "with urlopen(\"https://raw.githubusercontent.com/gosia-malgosia/german-stop-words/master/german-stop-words.txt\") as file:\n",
    "    stopwords_encoded = file.read().splitlines()\n",
    "#stopwords = [word.decode('utf8') for word in stopwords_encoded]\n",
    "#with open(\"de_stopwords.json\", encoding=\"utf-8\") as stopw:\n",
    "#    stopwords = stopw.read()\n",
    "stopwords = set(stopwords.words(\"german\"))\n",
    "\n",
    "def text_filter(words):\n",
    "    re_wspace = re.compile(r\"\\s+\", re.IGNORECASE)\n",
    "    re_ascii = re.compile(r\"[^A-Za-zÀ-ž ]\", re.IGNORECASE)\n",
    "    re_singlechar = re.compile(r\"\\b[A-Za-zÀ-ž]\\b\", re.IGNORECASE)\n",
    "    words = re.sub(re_wspace, \" \", words)\n",
    "    words = re.sub(re_ascii, \" \", words)\n",
    "    words = re.sub(re_singlechar, \" \", words)\n",
    "    tokenized = word_tokenize(words)\n",
    "    text_lower = [token.lower() for token in tokenized]\n",
    "    stopwords_removed = [word for word in text_lower if word not in stopwords]\n",
    "    stemmed_words = [stemmer.stem(word) for word in stopwords_removed]\n",
    "    filtered = \" \".join(stemmed_words)\n",
    "    return filtered\n",
    "\n",
    "def filter_nostemming(words):\n",
    "    re_wspace = re.compile(r\"\\s+\", re.IGNORECASE)\n",
    "    re_ascii = re.compile(r\"[^A-Za-zÀ-ž ]\", re.IGNORECASE)\n",
    "    re_singlechar = re.compile(r\"\\b[A-Za-zÀ-ž]\\b\", re.IGNORECASE)\n",
    "    words = re.sub(re_wspace, \" \", words)\n",
    "    words = re.sub(re_ascii, \" \", words)\n",
    "    words = re.sub(re_singlechar, \" \", words)\n",
    "    tokenized = word_tokenize(words)\n",
    "    text_lower = [token.lower() for token in tokenized]\n",
    "    stopwords_removed = [word for word in text_lower if word not in stopwords]\n",
    "    \n",
    "    filtered_notstemmed = \" \".join(stopwords_removed)\n",
    "    return filtered_notstemmed\n",
    "\n",
    "print(stopwords)"
   ]
  },
  {
   "cell_type": "code",
   "execution_count": 23,
   "metadata": {},
   "outputs": [
    {
     "data": {
      "text/markdown": [
       "Originaltext <b>&quot;text&quot;</b> vs normalisierter Text <b>&quot;clean_text&quot;</b>"
      ],
      "text/plain": [
       "<IPython.core.display.Markdown object>"
      ]
     },
     "metadata": {},
     "output_type": "display_data"
    },
    {
     "data": {
      "text/html": [
       "<div>\n",
       "<style scoped>\n",
       "    .dataframe tbody tr th:only-of-type {\n",
       "        vertical-align: middle;\n",
       "    }\n",
       "\n",
       "    .dataframe tbody tr th {\n",
       "        vertical-align: top;\n",
       "    }\n",
       "\n",
       "    .dataframe thead th {\n",
       "        text-align: right;\n",
       "    }\n",
       "</style>\n",
       "<table border=\"1\" class=\"dataframe\">\n",
       "  <thead>\n",
       "    <tr style=\"text-align: right;\">\n",
       "      <th></th>\n",
       "      <th>text</th>\n",
       "      <th>positive</th>\n",
       "      <th>clean_text</th>\n",
       "    </tr>\n",
       "  </thead>\n",
       "  <tbody>\n",
       "    <tr>\n",
       "      <th>5600</th>\n",
       "      <td>Endlich ein verdammt leckere Alternative! Supe...</td>\n",
       "      <td>1</td>\n",
       "      <td>endlich verdammt leckere alternative super tol...</td>\n",
       "    </tr>\n",
       "    <tr>\n",
       "      <th>5601</th>\n",
       "      <td>sehr leckerer Leberwurstgeschmack nach meinem ...</td>\n",
       "      <td>1</td>\n",
       "      <td>leckerer leberwurstgeschmack empfinden konsist...</td>\n",
       "    </tr>\n",
       "    <tr>\n",
       "      <th>5602</th>\n",
       "      <td>Bisher wurde ich immer enttäuscht von dem Gesc...</td>\n",
       "      <td>1</td>\n",
       "      <td>bisher wurde immer enttäuscht geschmack vegane...</td>\n",
       "    </tr>\n",
       "    <tr>\n",
       "      <th>5603</th>\n",
       "      <td>Dieser Aufstrich gehört bei mir zum Frühstück ...</td>\n",
       "      <td>1</td>\n",
       "      <td>aufstrich gehört frühstück abendbrot schon sta...</td>\n",
       "    </tr>\n",
       "    <tr>\n",
       "      <th>5604</th>\n",
       "      <td>von konsistenz und geschmack kaum von echter l...</td>\n",
       "      <td>1</td>\n",
       "      <td>konsistenz geschmack kaum echter leberwurst un...</td>\n",
       "    </tr>\n",
       "    <tr>\n",
       "      <th>5605</th>\n",
       "      <td>War leider schon drei Tage nachdem ich das Pak...</td>\n",
       "      <td>1</td>\n",
       "      <td>leider schon drei tage nachdem paket bekommen ...</td>\n",
       "    </tr>\n",
       "    <tr>\n",
       "      <th>5606</th>\n",
       "      <td>Diese Violife-Scheiben schmecken mir gut. Ich ...</td>\n",
       "      <td>1</td>\n",
       "      <td>violife scheiben schmecken gut weiß jedoch piz...</td>\n",
       "    </tr>\n",
       "    <tr>\n",
       "      <th>5607</th>\n",
       "      <td>Selbst mein Omni hat die Scheiben gern, weil d...</td>\n",
       "      <td>1</td>\n",
       "      <td>omni scheiben gern leckere pizza geschmack ebe...</td>\n",
       "    </tr>\n",
       "    <tr>\n",
       "      <th>5608</th>\n",
       "      <td>Angenehm frisch, leicht süßlich, mindestens so...</td>\n",
       "      <td>1</td>\n",
       "      <td>angenehm frisch leicht süßlich mindestens leck...</td>\n",
       "    </tr>\n",
       "    <tr>\n",
       "      <th>5609</th>\n",
       "      <td>Wirklich köstlich, ich bin begeistert. Schade,...</td>\n",
       "      <td>1</td>\n",
       "      <td>wirklich köstlich begeistert schade wenig drin</td>\n",
       "    </tr>\n",
       "  </tbody>\n",
       "</table>\n",
       "</div>"
      ],
      "text/plain": [
       "                                                   text  positive  \\\n",
       "5600  Endlich ein verdammt leckere Alternative! Supe...         1   \n",
       "5601  sehr leckerer Leberwurstgeschmack nach meinem ...         1   \n",
       "5602  Bisher wurde ich immer enttäuscht von dem Gesc...         1   \n",
       "5603  Dieser Aufstrich gehört bei mir zum Frühstück ...         1   \n",
       "5604  von konsistenz und geschmack kaum von echter l...         1   \n",
       "5605  War leider schon drei Tage nachdem ich das Pak...         1   \n",
       "5606  Diese Violife-Scheiben schmecken mir gut. Ich ...         1   \n",
       "5607  Selbst mein Omni hat die Scheiben gern, weil d...         1   \n",
       "5608  Angenehm frisch, leicht süßlich, mindestens so...         1   \n",
       "5609  Wirklich köstlich, ich bin begeistert. Schade,...         1   \n",
       "\n",
       "                                             clean_text  \n",
       "5600  endlich verdammt leckere alternative super tol...  \n",
       "5601  leckerer leberwurstgeschmack empfinden konsist...  \n",
       "5602  bisher wurde immer enttäuscht geschmack vegane...  \n",
       "5603  aufstrich gehört frühstück abendbrot schon sta...  \n",
       "5604  konsistenz geschmack kaum echter leberwurst un...  \n",
       "5605  leider schon drei tage nachdem paket bekommen ...  \n",
       "5606  violife scheiben schmecken gut weiß jedoch piz...  \n",
       "5607  omni scheiben gern leckere pizza geschmack ebe...  \n",
       "5608  angenehm frisch leicht süßlich mindestens leck...  \n",
       "5609     wirklich köstlich begeistert schade wenig drin  "
      ]
     },
     "execution_count": 23,
     "metadata": {},
     "output_type": "execute_result"
    }
   ],
   "source": [
    "df_samples[\"clean_text\"] = df_samples[\"text\"].apply(lambda row: text_filter(row))\n",
    "df_backup[\"clean_text\"] = df_backup[\"text\"].apply(lambda row: filter_nostemming(row))\n",
    "df_samples.clean_text.str.split(expand=True).stack().value_counts()\n",
    "printmd(\"Originaltext <b>&quot;text&quot;</b> vs normalisierter Text <b>&quot;clean_text&quot;</b>\")\n",
    "#df_samples.head()\n",
    "\n",
    "df_samples.loc[[5600,5601,5602,5603,5604,5605,5606,5607,5608,5609],:]"
   ]
  },
  {
   "cell_type": "code",
   "execution_count": 24,
   "metadata": {},
   "outputs": [
    {
     "data": {},
     "metadata": {},
     "output_type": "display_data"
    },
    {
     "data": {
      "application/vnd.holoviews_exec.v0+json": "",
      "text/html": [
       "<div id='1120'>\n",
       "\n",
       "\n",
       "\n",
       "\n",
       "\n",
       "  <div class=\"bk-root\" id=\"ec4727da-9f89-43d9-9d27-2d6d2fbe4c37\" data-root-id=\"1120\"></div>\n",
       "</div>\n",
       "<script type=\"application/javascript\">(function(root) {\n",
       "  function embed_document(root) {\n",
       "    var docs_json = {\"cb31e7c7-1193-4c1f-a207-f54c5503b338\":{\"defs\":[],\"roots\":{\"references\":[{\"attributes\":{\"axis_label\":\"\",\"formatter\":{\"id\":\"1164\"},\"major_label_orientation\":0.7853981633974483,\"major_label_policy\":{\"id\":\"1165\"},\"ticker\":{\"id\":\"1135\"}},\"id\":\"1134\",\"type\":\"CategoricalAxis\"},{\"attributes\":{},\"id\":\"1164\",\"type\":\"CategoricalTickFormatter\"},{\"attributes\":{},\"id\":\"1130\",\"type\":\"CategoricalScale\"},{\"attributes\":{\"factors\":[\"gut\",\"schmeckt\",\"geschmack\",\"super\",\"konsistenz\",\"produkt\",\"einfach\",\"wirklich\",\"leider\",\"mal\",\"schon\",\"immer\",\"mehr\",\"ganz\",\"alternative\",\"schmecken\",\"geschmacklich\",\"finde\",\"besser\",\"preis\",\"beste\",\"gute\",\"echt\",\"k\\u00e4se\",\"gerne\",\"gibt\",\"vegane\",\"perfekt\",\"beim\",\"richtig\",\"top\",\"essen\",\"kaufen\",\"empfehlen\",\"ja\",\"schnell\",\"the\",\"s\\u00fc\\u00df\",\"brot\"],\"tags\":[[[\"index\",\"index\",null]]]},\"id\":\"1122\",\"type\":\"FactorRange\"},{\"attributes\":{\"overlay\":{\"id\":\"1146\"}},\"id\":\"1144\",\"type\":\"BoxZoomTool\"},{\"attributes\":{},\"id\":\"1141\",\"type\":\"SaveTool\"},{\"attributes\":{},\"id\":\"1165\",\"type\":\"AllLabels\"},{\"attributes\":{\"end\":1669.2,\"reset_end\":1669.2,\"reset_start\":0.0,\"tags\":[[[\"Am h\\u00e4ufigsten verwendete W\\u00f6rter im Datensatz\",\"Am h\\u00e4ufigsten verwendete W\\u00f6rter im Datensatz\",null]]]},\"id\":\"1123\",\"type\":\"Range1d\"},{\"attributes\":{},\"id\":\"1135\",\"type\":\"CategoricalTicker\"},{\"attributes\":{\"below\":[{\"id\":\"1134\"}],\"center\":[{\"id\":\"1136\"},{\"id\":\"1140\"}],\"height\":400,\"left\":[{\"id\":\"1137\"}],\"margin\":[5,5,5,5],\"min_border_bottom\":10,\"min_border_left\":10,\"min_border_right\":10,\"min_border_top\":10,\"renderers\":[{\"id\":\"1160\"}],\"sizing_mode\":\"fixed\",\"title\":{\"id\":\"1126\"},\"toolbar\":{\"id\":\"1147\"},\"width\":700,\"x_range\":{\"id\":\"1122\"},\"x_scale\":{\"id\":\"1130\"},\"y_range\":{\"id\":\"1123\"},\"y_scale\":{\"id\":\"1132\"}},\"id\":\"1125\",\"subtype\":\"Figure\",\"type\":\"Plot\"},{\"attributes\":{\"margin\":[5,5,5,5],\"name\":\"HSpacer01865\",\"sizing_mode\":\"stretch_width\"},\"id\":\"1121\",\"type\":\"Spacer\"},{\"attributes\":{\"axis\":{\"id\":\"1134\"},\"grid_line_color\":null,\"ticker\":null},\"id\":\"1136\",\"type\":\"Grid\"},{\"attributes\":{\"bottom_units\":\"screen\",\"fill_alpha\":0.5,\"fill_color\":\"lightgrey\",\"left_units\":\"screen\",\"level\":\"overlay\",\"line_alpha\":1.0,\"line_color\":\"black\",\"line_dash\":[4,4],\"line_width\":2,\"right_units\":\"screen\",\"syncable\":false,\"top_units\":\"screen\"},\"id\":\"1146\",\"type\":\"BoxAnnotation\"},{\"attributes\":{},\"id\":\"1145\",\"type\":\"ResetTool\"},{\"attributes\":{},\"id\":\"1119\",\"type\":\"NumeralTickFormatter\"},{\"attributes\":{\"children\":[{\"id\":\"1121\"},{\"id\":\"1125\"},{\"id\":\"1189\"}],\"margin\":[0,0,0,0],\"name\":\"Row01861\",\"tags\":[\"embedded\"]},\"id\":\"1120\",\"type\":\"Row\"},{\"attributes\":{},\"id\":\"1132\",\"type\":\"LinearScale\"},{\"attributes\":{},\"id\":\"1143\",\"type\":\"WheelZoomTool\"},{\"attributes\":{\"bottom\":{\"value\":0},\"fill_alpha\":{\"value\":1.0},\"fill_color\":{\"value\":\"#30a2da\"},\"hatch_alpha\":{\"value\":1.0},\"hatch_color\":{\"value\":\"black\"},\"hatch_scale\":{\"value\":12.0},\"hatch_weight\":{\"value\":1.0},\"line_alpha\":{\"value\":1.0},\"line_cap\":{\"value\":\"butt\"},\"line_color\":{\"value\":\"black\"},\"line_dash\":{\"value\":[]},\"line_dash_offset\":{\"value\":0},\"line_join\":{\"value\":\"bevel\"},\"line_width\":{\"value\":1},\"top\":{\"field\":\"Am_h\\u00e4ufigsten_verwendete_W\\u00f6rter_im_Datensatz\"},\"width\":{\"value\":0.8},\"x\":{\"field\":\"index\"}},\"id\":\"1162\",\"type\":\"VBar\"},{\"attributes\":{},\"id\":\"1178\",\"type\":\"UnionRenderers\"},{\"attributes\":{\"active_multi\":null,\"tools\":[{\"id\":\"1124\"},{\"id\":\"1141\"},{\"id\":\"1142\"},{\"id\":\"1143\"},{\"id\":\"1144\"},{\"id\":\"1145\"}]},\"id\":\"1147\",\"type\":\"Toolbar\"},{\"attributes\":{\"axis\":{\"id\":\"1137\"},\"dimension\":1,\"grid_line_color\":null,\"ticker\":null},\"id\":\"1140\",\"type\":\"Grid\"},{\"attributes\":{\"fill_color\":{\"value\":\"#30a2da\"},\"top\":{\"field\":\"Am_h\\u00e4ufigsten_verwendete_W\\u00f6rter_im_Datensatz\"},\"width\":{\"value\":0.8},\"x\":{\"field\":\"index\"}},\"id\":\"1157\",\"type\":\"VBar\"},{\"attributes\":{},\"id\":\"1142\",\"type\":\"PanTool\"},{\"attributes\":{},\"id\":\"1138\",\"type\":\"BasicTicker\"},{\"attributes\":{\"data\":{\"Am_h\\u00e4ufigsten_verwendete_W\\u00f6rter_im_Datensatz\":[1535,1415,1152,1042,693,619,605,578,562,541,486,476,468,378,378,373,359,328,320,309,307,296,272,263,262,253,244,241,230,228,227,224,220,212,212,205,196,195,193],\"index\":[\"gut\",\"schmeckt\",\"geschmack\",\"super\",\"konsistenz\",\"produkt\",\"einfach\",\"wirklich\",\"leider\",\"mal\",\"schon\",\"immer\",\"mehr\",\"ganz\",\"alternative\",\"schmecken\",\"geschmacklich\",\"finde\",\"besser\",\"preis\",\"beste\",\"gute\",\"echt\",\"k\\u00e4se\",\"gerne\",\"gibt\",\"vegane\",\"perfekt\",\"beim\",\"richtig\",\"top\",\"essen\",\"kaufen\",\"empfehlen\",\"ja\",\"schnell\",\"the\",\"s\\u00fc\\u00df\",\"brot\"]},\"selected\":{\"id\":\"1155\"},\"selection_policy\":{\"id\":\"1178\"}},\"id\":\"1154\",\"type\":\"ColumnDataSource\"},{\"attributes\":{\"callback\":null,\"renderers\":[{\"id\":\"1160\"}],\"tags\":[\"hv_created\"],\"tooltips\":[[\"index\",\"@{index}\"],[\"Am h\\u00e4ufigsten verwendete W\\u00f6rter im Datensatz\",\"@{Am_h\\u00e4ufigsten_verwendete_W\\u00f6rter_im_Datensatz}\"]]},\"id\":\"1124\",\"type\":\"HoverTool\"},{\"attributes\":{},\"id\":\"1155\",\"type\":\"Selection\"},{\"attributes\":{\"fill_alpha\":{\"value\":0.2},\"fill_color\":{\"value\":\"#30a2da\"},\"line_alpha\":{\"value\":0.2},\"top\":{\"field\":\"Am_h\\u00e4ufigsten_verwendete_W\\u00f6rter_im_Datensatz\"},\"width\":{\"value\":0.8},\"x\":{\"field\":\"index\"}},\"id\":\"1159\",\"type\":\"VBar\"},{\"attributes\":{\"data_source\":{\"id\":\"1154\"},\"glyph\":{\"id\":\"1157\"},\"hover_glyph\":null,\"muted_glyph\":{\"id\":\"1159\"},\"nonselection_glyph\":{\"id\":\"1158\"},\"selection_glyph\":{\"id\":\"1162\"},\"view\":{\"id\":\"1161\"}},\"id\":\"1160\",\"type\":\"GlyphRenderer\"},{\"attributes\":{\"axis_label\":\"\",\"formatter\":{\"id\":\"1119\"},\"major_label_policy\":{\"id\":\"1167\"},\"ticker\":{\"id\":\"1138\"}},\"id\":\"1137\",\"type\":\"LinearAxis\"},{\"attributes\":{\"source\":{\"id\":\"1154\"}},\"id\":\"1161\",\"type\":\"CDSView\"},{\"attributes\":{},\"id\":\"1167\",\"type\":\"AllLabels\"},{\"attributes\":{\"margin\":[5,5,5,5],\"name\":\"HSpacer01866\",\"sizing_mode\":\"stretch_width\"},\"id\":\"1189\",\"type\":\"Spacer\"},{\"attributes\":{\"fill_alpha\":{\"value\":0.1},\"fill_color\":{\"value\":\"#30a2da\"},\"line_alpha\":{\"value\":0.1},\"top\":{\"field\":\"Am_h\\u00e4ufigsten_verwendete_W\\u00f6rter_im_Datensatz\"},\"width\":{\"value\":0.8},\"x\":{\"field\":\"index\"}},\"id\":\"1158\",\"type\":\"VBar\"},{\"attributes\":{\"text\":\"Am h\\u00e4ufigsten verwendete W\\u00f6rter im Datensatz\",\"text_color\":\"black\",\"text_font_size\":\"12pt\"},\"id\":\"1126\",\"type\":\"Title\"}],\"root_ids\":[\"1120\"]},\"title\":\"Bokeh Application\",\"version\":\"2.3.1\"}};\n",
       "    var render_items = [{\"docid\":\"cb31e7c7-1193-4c1f-a207-f54c5503b338\",\"root_ids\":[\"1120\"],\"roots\":{\"1120\":\"ec4727da-9f89-43d9-9d27-2d6d2fbe4c37\"}}];\n",
       "    root.Bokeh.embed.embed_items_notebook(docs_json, render_items);\n",
       "  }\n",
       "  if (root.Bokeh !== undefined && root.Bokeh.Panel !== undefined) {\n",
       "    embed_document(root);\n",
       "  } else {\n",
       "    var attempts = 0;\n",
       "    var timer = setInterval(function(root) {\n",
       "      if (root.Bokeh !== undefined && root.Bokeh.Panel !== undefined) {\n",
       "        clearInterval(timer);\n",
       "        embed_document(root);\n",
       "      } else if (document.readyState == \"complete\") {\n",
       "        attempts++;\n",
       "        if (attempts > 100) {\n",
       "          clearInterval(timer);\n",
       "          console.log(\"Bokeh: ERROR: Unable to run BokehJS code because BokehJS library is missing\");\n",
       "        }\n",
       "      }\n",
       "    }, 10, root)\n",
       "  }\n",
       "})(window);</script>"
      ],
      "text/plain": [
       ":Bars   [index]   (Am häufigsten verwendete Wörter im Datensatz)"
      ]
     },
     "execution_count": 24,
     "metadata": {
      "application/vnd.holoviews_exec.v0+json": {
       "id": "1120"
      }
     },
     "output_type": "execute_result"
    }
   ],
   "source": [
    "import hvplot\n",
    "import holoviews as hv\n",
    "from hvplot import pandas\n",
    "from bokeh.models import NumeralTickFormatter\n",
    "\n",
    "word_freq = pd.Series(\" \".join(df_backup[\"clean_text\"]).split()).value_counts()\n",
    "word_freq[1:40].rename(\"Am häufigsten verwendete Wörter im Datensatz\").hvplot.bar(\n",
    "    rot=45\n",
    ").opts(width=700, height=400, yformatter=NumeralTickFormatter(format=\"0,0\"))"
   ]
  },
  {
   "cell_type": "code",
   "execution_count": 25,
   "metadata": {},
   "outputs": [
    {
     "name": "stdout",
     "output_type": "stream",
     "text": [
      "Training Sample Size: 9180\n",
      "Test Sample Size: 1020\n"
     ]
    }
   ],
   "source": [
    "from sklearn.feature_extraction.text import TfidfVectorizer\n",
    "from sklearn.model_selection import train_test_split\n",
    "from sklearn.svm import LinearSVC\n",
    "from sklearn.naive_bayes import MultinomialNB\n",
    "from sklearn.metrics import classification_report\n",
    "from sklearn.pipeline import make_pipeline\n",
    "from sklearn.feature_extraction.text import CountVectorizer\n",
    "\n",
    "vectorizer = TfidfVectorizer(ngram_range=(1, 2), min_df=3)\n",
    "vectorizer.fit(df_samples[\"clean_text\"])\n",
    "\n",
    "train, test = train_test_split(df_samples, random_state=1, test_size=0.1)\n",
    "x_train = train[\"clean_text\"]\n",
    "y_train = train[\"positive\"]\n",
    "x_test = test[\"clean_text\"]\n",
    "y_test = test[\"positive\"]\n",
    "\n",
    "training_scores = vectorizer.transform(x_train)\n",
    "test_scores = vectorizer.transform(x_test)\n",
    "\n",
    "print(\"Training Sample Size: {}\".format(x_train.shape[0]))\n",
    "print(\"Test Sample Size: {}\".format(x_test.shape[0]))"
   ]
  },
  {
   "cell_type": "code",
   "execution_count": 26,
   "metadata": {},
   "outputs": [
    {
     "data": {
      "text/markdown": [
       "Aktuelle G&uuml;te des Modells:\n"
      ],
      "text/plain": [
       "<IPython.core.display.Markdown object>"
      ]
     },
     "metadata": {},
     "output_type": "display_data"
    },
    {
     "name": "stdout",
     "output_type": "stream",
     "text": [
      "              precision    recall  f1-score   support\n",
      "\n",
      "           0       0.93      0.33      0.48       196\n",
      "           1       0.86      0.99      0.92       824\n",
      "\n",
      "    accuracy                           0.87      1020\n",
      "   macro avg       0.89      0.66      0.70      1020\n",
      "weighted avg       0.87      0.87      0.84      1020\n",
      "\n"
     ]
    }
   ],
   "source": [
    "classifier = MultinomialNB()\n",
    "classifier.fit(training_scores, y_train)\n",
    "prediction = classifier.predict(test_scores)\n",
    "printmd(\"Aktuelle G&uuml;te des Modells:\\n\")\n",
    "print(classification_report(y_test, prediction))\n"
   ]
  },
  {
   "cell_type": "code",
   "execution_count": 27,
   "metadata": {},
   "outputs": [
    {
     "data": {
      "text/plain": [
       "Pipeline(steps=[('tfidfvectorizer',\n",
       "                 TfidfVectorizer(min_df=6, ngram_range=(1, 3))),\n",
       "                ('multinomialnb', MultinomialNB())])"
      ]
     },
     "execution_count": 27,
     "metadata": {},
     "output_type": "execute_result"
    }
   ],
   "source": [
    "pipeline = make_pipeline(TfidfVectorizer(ngram_range=(1, 3), min_df=6), MultinomialNB())\n",
    "pipeline.fit(x_train, y_train)"
   ]
  },
  {
   "cell_type": "code",
   "execution_count": 28,
   "metadata": {},
   "outputs": [
    {
     "data": {
      "text/markdown": [
       "<h3>Bitte hier Text eingeben und mit &quot;Enter&quot; best&auml;tigen:</h3>"
      ],
      "text/plain": [
       "<IPython.core.display.Markdown object>"
      ]
     },
     "metadata": {},
     "output_type": "display_data"
    },
    {
     "data": {
      "application/vnd.jupyter.widget-view+json": {
       "model_id": "02dcba3d3e554ce1ae5b6ecd90ba9442",
       "version_major": 2,
       "version_minor": 0
      },
      "text/plain": [
       "Text(value='')"
      ]
     },
     "metadata": {},
     "output_type": "display_data"
    }
   ],
   "source": [
    "printmd(\"<h3>Bitte hier Text eingeben und mit &quot;Enter&quot; best&auml;tigen:</h3>\")\n",
    "text = widgets.Text()\n",
    "display(text)\n",
    "\n",
    "def get_submit(mock_review):\n",
    "    text = text_filter(mock_review.value)\n",
    "    prediction = pipeline.predict([text])\n",
    "    print(\"\\\"{}\\\"\".format(mock_review.value))\n",
    "    if mock_review == None:\n",
    "        pass\n",
    "    elif prediction == 0:\n",
    "        print(\"negativ\")\n",
    "        print(pipeline.predict_proba([text]))\n",
    "        \n",
    "    elif prediction == 1:\n",
    "        print(\"positiv\")\n",
    "        print(pipeline.predict_proba([text]))\n",
    "        \n",
    "    else:\n",
    "        print(\"Fehler\")\n",
    "    print(\"\\n\")\n",
    "\n",
    "text.on_submit(get_submit)"
   ]
  },
  {
   "cell_type": "code",
   "execution_count": 29,
   "metadata": {},
   "outputs": [
    {
     "data": {
      "text/html": [
       "<script>\n",
       "code_show=true; \n",
       "function code_toggle() {\n",
       " if (code_show){\n",
       " $('div.input').hide();\n",
       " } else {\n",
       " $('div.input').show();\n",
       " }\n",
       " code_show = !code_show\n",
       "} \n",
       "$( document ).ready(code_toggle);\n",
       "</script>\n",
       "<a href=\"javascript:code_toggle()\"><b>Gesamten Quellcode ein-/ausblenden</b></a>."
      ],
      "text/plain": [
       "<IPython.core.display.HTML object>"
      ]
     },
     "execution_count": 29,
     "metadata": {},
     "output_type": "execute_result"
    }
   ],
   "source": [
    "HTML('''<script>\n",
    "code_show=true; \n",
    "function code_toggle() {\n",
    " if (code_show){\n",
    " $('div.input').hide();\n",
    " } else {\n",
    " $('div.input').show();\n",
    " }\n",
    " code_show = !code_show\n",
    "} \n",
    "$( document ).ready(code_toggle);\n",
    "</script>\n",
    "<a href=\"javascript:code_toggle()\"><b>Gesamten Quellcode ein-/ausblenden</b></a>.''')"
   ]
  },
  {
   "cell_type": "code",
   "execution_count": 31,
   "metadata": {},
   "outputs": [
    {
     "data": {
      "text/markdown": [
       "--- end of notebook ---"
      ],
      "text/plain": [
       "<IPython.core.display.Markdown object>"
      ]
     },
     "metadata": {},
     "output_type": "display_data"
    }
   ],
   "source": [
    "printmd(\"--- end of notebook ---\")"
   ]
  }
 ],
 "metadata": {
  "kernelspec": {
   "display_name": "Python 3",
   "language": "python",
   "name": "python3"
  },
  "language_info": {
   "codemirror_mode": {
    "name": "ipython",
    "version": 3
   },
   "file_extension": ".py",
   "mimetype": "text/x-python",
   "name": "python",
   "nbconvert_exporter": "python",
   "pygments_lexer": "ipython3",
   "version": "3.8.3"
  }
 },
 "nbformat": 4,
 "nbformat_minor": 5
}
